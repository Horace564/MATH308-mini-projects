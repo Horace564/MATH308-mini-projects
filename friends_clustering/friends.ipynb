{
 "cells": [
  {
   "cell_type": "markdown",
   "metadata": {},
   "source": [
    "# import libraries"
   ]
  },
  {
   "cell_type": "code",
   "execution_count": null,
   "metadata": {},
   "outputs": [],
   "source": [
    "import numpy as np\n",
    "from sklearn.cluster import KMeans\n",
    "import matplotlib.pyplot as plt\n",
    "import random\n",
    "\n",
    "import warnings\n",
    "warnings.filterwarnings(\"ignore\")\n"
   ]
  },
  {
   "cell_type": "markdown",
   "metadata": {},
   "source": [
    "# perform spectral clustering"
   ]
  },
  {
   "cell_type": "code",
   "execution_count": null,
   "metadata": {},
   "outputs": [],
   "source": [
    "A = np.zeros((1495, 1495),dtype=int)\n",
    "\n",
    "file_name = 'friends.txt'\n",
    "with open(file_name,'r') as file:\n",
    "    for line in file:\n",
    "        node1, node2 = map(int, line.strip().split(','))\n",
    "        A[node1 - 1][node2 - 1] = 1\n",
    "\n",
    "L = np.diag(np.sum(A, axis=1)) - A\n",
    "\n",
    "eigenvalues, eigenvectors = np.linalg.eig(L)\n",
    "sorted_indices = np.argsort(eigenvalues)\n",
    "sorted_eigenvalues = eigenvalues[sorted_indices]\n",
    "sorted_eigenvectors = eigenvectors[:, sorted_indices]\n",
    "\n",
    "print(np.round(sorted_eigenvalues[:12],3))\n",
    "\n",
    "for i in range(6):\n",
    "    v = sorted_eigenvectors[:,i]\n",
    "    threshold = np.max(np.abs(v)) * 0.9 # dynamically set threshold base on the values of the eigenvector\n",
    "    nodes = np.where(np.abs(v) > threshold)\n",
    "    print(\"number of nodes in cluster\", i+1, \":\", len(nodes[0]))\n"
   ]
  },
  {
   "cell_type": "markdown",
   "metadata": {},
   "source": [
    "## interpret the output\n",
    "- There are 6 zero eigenvalues, which means the graph has 6 connected components\n",
    "- For each cluster, we can find the number of nodes within that cluster"
   ]
  },
  {
   "cell_type": "markdown",
   "metadata": {},
   "source": [
    "\\newpage"
   ]
  },
  {
   "cell_type": "markdown",
   "metadata": {},
   "source": [
    "# cluster nodes with certain constrains\n",
    "1. 150 < node_size < 750\n",
    "2. cluster the data into at least 3 groups\n",
    "3. the conductance between groups must smaller than 0.1\n",
    "4. The conductance of $S\\subset V$ is defined as\n",
    "$$\n",
    "conductance = \\frac{E}{D}\n",
    "$$\n",
    "\n",
    "where E = number of boundary edges of S, D = total degree of S"
   ]
  },
  {
   "cell_type": "code",
   "execution_count": null,
   "metadata": {},
   "outputs": [],
   "source": [
    "def compute_conductance(A, S):\n",
    "    n = A.shape[0]\n",
    "    S_complement = np.setdiff1d(np.arange(n), S) # find the complement of S\n",
    "    boundary_edges = np.sum(A[np.ix_(S, S_complement)]) # find the number of boundary edges\n",
    "    degree_S = np.sum(np.sum(A[S, :], axis=1)) # find the degree of S\n",
    "\n",
    "    if degree_S == 0:\n",
    "        return 1\n",
    "    return boundary_edges / degree_S\n",
    "\n",
    "\n",
    "def find_low_conductance_sets(A, min_size=150, max_size=750, max_conductance=0.1):\n",
    "\n",
    "    # we need to try the proper combination of eigenvectors to find the best partition\n",
    "    # try different number of clusters are also important to avoid some clusters are too small or too large\n",
    "\n",
    "    selected_eigenvectors = sorted_eigenvectors[:, 6:15] \n",
    "    kmeans = KMeans(n_clusters=50, random_state=0)  \n",
    "    labels = kmeans.fit_predict(selected_eigenvectors)\n",
    "    \n",
    "\n",
    "    sets = []\n",
    "    for i in range(np.max(labels) + 1):\n",
    "        S = np.where(labels == i)[0]\n",
    "        if min_size <= len(S) <= max_size:\n",
    "            conductance = compute_conductance(A, S)\n",
    "            if conductance <= max_conductance:\n",
    "                sets.append(S)\n",
    "\n",
    "    return sets\n",
    "\n",
    "sets = find_low_conductance_sets(A)\n",
    "\n",
    "for i, S in enumerate(sets):\n",
    "    print(f\"S{i + 1}:\")\n",
    "    print(f\"Size: {len(S)}\")\n",
    "    print(f\"first 10 members: {S[:10]}\")\n",
    "    print(f\"conductance: {compute_conductance(A, S)}\")\n",
    "    print()\n"
   ]
  }
 ],
 "metadata": {
  "kernelspec": {
   "display_name": "base",
   "language": "python",
   "name": "python3"
  },
  "language_info": {
   "codemirror_mode": {
    "name": "ipython",
    "version": 3
   },
   "file_extension": ".py",
   "mimetype": "text/x-python",
   "name": "python",
   "nbconvert_exporter": "python",
   "pygments_lexer": "ipython3",
   "version": "3.12.7"
  }
 },
 "nbformat": 4,
 "nbformat_minor": 2
}
