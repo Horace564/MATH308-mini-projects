{
 "cells": [
  {
   "cell_type": "markdown",
   "metadata": {},
   "source": [
    "# import libraries"
   ]
  },
  {
   "cell_type": "code",
   "execution_count": 4,
   "metadata": {},
   "outputs": [],
   "source": [
    "import pandas as pd\n",
    "import numpy as np"
   ]
  },
  {
   "cell_type": "markdown",
   "metadata": {},
   "source": [
    "# import dataset and construct adjacency matrix A"
   ]
  },
  {
   "cell_type": "code",
   "execution_count": 5,
   "metadata": {},
   "outputs": [],
   "source": [
    "def cal_A(songs):\n",
    "    A = np.zeros((songs.shape[0], songs.shape[0]))\n",
    "    for i in range(songs.shape[0]):\n",
    "        for j in range(songs.shape[0]):\n",
    "            distance = np.linalg.norm(songs[i] - songs[j])\n",
    "            if distance > 1:\n",
    "                A[i][j] = 1\n",
    "\n",
    "    return A\n",
    "\n",
    "file_path = 'songs.csv' \n",
    "df = pd.read_csv(file_path) \n",
    "song = df.to_numpy() # convert the dataframe to numpy array \n",
    "A = cal_A(song)"
   ]
  },
  {
   "cell_type": "markdown",
   "metadata": {},
   "source": [
    "\\newpage"
   ]
  },
  {
   "cell_type": "markdown",
   "metadata": {},
   "source": [
    "# perform spectral clustering on normalized L"
   ]
  },
  {
   "cell_type": "code",
   "execution_count": 6,
   "metadata": {},
   "outputs": [
    {
     "name": "stdout",
     "output_type": "stream",
     "text": [
      "[-3.79980777e-16  9.89839228e-01  9.89945494e-01  9.90020082e-01\n",
      "  9.90087966e-01]\n",
      "The first 10 clusters are:\n",
      "[2 1 2 1 2 1 1 1 2 1]\n"
     ]
    }
   ],
   "source": [
    "D = np.diag(np.sum(A, axis=1))\n",
    "L = D - A\n",
    "\n",
    "D_inv_sqrt = np.linalg.inv(np.sqrt(D))\n",
    "L_norm = D_inv_sqrt @ L @ D_inv_sqrt\n",
    "eigenvalues, eigenvectors = np.linalg.eig(L_norm)\n",
    "\n",
    "sorted_indices = np.argsort(eigenvalues)\n",
    "eigenvectors = eigenvectors[:, sorted_indices]\n",
    "eigenvalues = eigenvalues[sorted_indices]\n",
    "\n",
    "print(eigenvalues[:5]) # here we print out the first 5 eigenvalues\n",
    "\n",
    "v = eigenvectors[:, 1]\n",
    "x = D_inv_sqrt @ v\n",
    "clusters = np.where(x >= 0, 1, 2) # do the clustering based on the second smallest eigenvector\n",
    "print(\"The first 10 clusters are:\")\n",
    "print(clusters[:10])\n",
    "\n"
   ]
  },
  {
   "cell_type": "markdown",
   "metadata": {},
   "source": [
    "## interpret the output\n",
    "- The first 5 eigenvalues are **[-3.79980777e-16, 9.89839228e-01, 9.89945494e-01, 9.90020082e-01, 9.90087966e-01]** \n",
    "- There is one eigenvalue that is very close to 0, which means the graph has 1 connected component"
   ]
  },
  {
   "cell_type": "markdown",
   "metadata": {},
   "source": [
    "\\newpage"
   ]
  },
  {
   "cell_type": "markdown",
   "metadata": {},
   "source": [
    "# explore the systematic differences between the two clusters"
   ]
  },
  {
   "cell_type": "code",
   "execution_count": 7,
   "metadata": {},
   "outputs": [
    {
     "name": "stdout",
     "output_type": "stream",
     "text": [
      "[1 6 9]\n"
     ]
    }
   ],
   "source": [
    "cluster_2_mean = song[clusters == 2].mean(axis=0) \n",
    "cluster_1_mean = song[clusters == 1].mean(axis=0)\n",
    "\n",
    "mean_differences = cluster_2_mean - cluster_1_mean\n",
    "top_3_features = np.argsort(np.abs(mean_differences))[-3:][::-1]  \n",
    "print(top_3_features)\n"
   ]
  },
  {
   "cell_type": "markdown",
   "metadata": {},
   "source": [
    "## interpret the output\n",
    "- This means that there is a significant difference between the two clusters in terms of feature 1, 6 and 9, which can be used to distinguish between them."
   ]
  }
 ],
 "metadata": {
  "kernelspec": {
   "display_name": "base",
   "language": "python",
   "name": "python3"
  },
  "language_info": {
   "codemirror_mode": {
    "name": "ipython",
    "version": 3
   },
   "file_extension": ".py",
   "mimetype": "text/x-python",
   "name": "python",
   "nbconvert_exporter": "python",
   "pygments_lexer": "ipython3",
   "version": "3.12.7"
  }
 },
 "nbformat": 4,
 "nbformat_minor": 2
}
